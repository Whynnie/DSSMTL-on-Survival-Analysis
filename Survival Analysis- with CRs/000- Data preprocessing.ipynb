{
 "cells": [
  {
   "cell_type": "code",
   "execution_count": null,
   "id": "118f9df0",
   "metadata": {},
   "outputs": [],
   "source": [
    "#### 1 - Importing packages\n",
    "import numpy as np\n",
    "import pandas as pd\n",
    "from matplotlib import pyplot as plt\n",
    "from sklearn.model_selection import KFold\n",
    "\n",
    "\n",
    "## importing the datasets\n",
    "data = pd.read_csv(\".../Cancer.csv\")\n",
    "\n",
    "\n",
    "features_cat = [\"sex\", \"invasion\", \"ici\", \"epicel\", \"ulcer\"]\n",
    "features_con = [\"age\", \"thick\"]\n",
    "\n",
    "df_dummy = [pd.get_dummies(data['sex'], prefix = 'sex', prefix_sep = ':'), \n",
    "           pd.get_dummies(data['invasion'], prefix = 'invasion', prefix_sep = ':'),\n",
    "           pd.get_dummies(data['ici'], prefix = 'ici', prefix_sep = ':'),\n",
    "           pd.get_dummies(data['epicel'], prefix = 'epicel', prefix_sep = ':'),\n",
    "           pd.get_dummies(data[\"ulcer\"], prefix = 'ulcer', prefix_sep = ':')]\n",
    "\n",
    "df_dummy = pd.concat(df_dummy, axis = 1)\n",
    "\n",
    "data_combine = pd.concat([data, df_dummy], axis = 1)\n",
    "\n",
    "#train = data[data[\"flag\"] == 1]\n",
    "#test = data[data[\"flag\"] == 0]\n",
    "\n",
    "\n",
    "features = df_dummy.columns.to_list() + features_con\n",
    "data_feat = data_combine[[\"time\", \"status\"] + features]\n",
    "\n",
    "\n",
    "## Spliting the dataset\n",
    "\n",
    "X = data_feat.drop([\"status\", \"time\"], axis = 1)\n",
    "y = data_feat[[\"status\", \"time\"]]\n",
    "\n",
    "from sklearn.model_selection import train_test_split\n",
    "\n",
    "X_train, X_test, y_train, y_test = train_test_split(X, y, test_size=0.3, random_state=42)\n",
    "\n",
    "train = pd.concat([X_train, y_train], axis = 1).reset_index(drop = True)\n",
    "\n",
    "test = pd.concat([X_test, y_test], axis = 1).reset_index(drop = True)\n",
    "\n",
    "### Exporting the data\n",
    "\n",
    "train.to_csv(\".../Melanoma_train_data_py.csv\")\n",
    "test.to_csv(\".../Melanoma_test_data_py.csv\")"
   ]
  }
 ],
 "metadata": {
  "kernelspec": {
   "display_name": "Python 3 (ipykernel)",
   "language": "python",
   "name": "python3"
  },
  "language_info": {
   "codemirror_mode": {
    "name": "ipython",
    "version": 3
   },
   "file_extension": ".py",
   "mimetype": "text/x-python",
   "name": "python",
   "nbconvert_exporter": "python",
   "pygments_lexer": "ipython3",
   "version": "3.9.7"
  },
  "toc": {
   "base_numbering": 1,
   "nav_menu": {},
   "number_sections": true,
   "sideBar": true,
   "skip_h1_title": false,
   "title_cell": "Table of Contents",
   "title_sidebar": "Contents",
   "toc_cell": false,
   "toc_position": {},
   "toc_section_display": true,
   "toc_window_display": false
  }
 },
 "nbformat": 4,
 "nbformat_minor": 5
}
